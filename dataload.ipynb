{
 "cells": [
  {
   "cell_type": "code",
   "execution_count": 2,
   "outputs": [
    {
     "name": "stdout",
     "output_type": "stream",
     "text": [
      "Collecting git+https://github.com/quantopian/pyfolio\n",
      "  Cloning https://github.com/quantopian/pyfolio to c:\\users\\river1~1\\appdata\\local\\temp\\pip-req-build-3mz2_619\n",
      "  Resolved https://github.com/quantopian/pyfolio to commit 4b901f6d73aa02ceb6d04b7d83502e5c6f2e81aa\n",
      "  Preparing metadata (setup.py): started\n",
      "  Preparing metadata (setup.py): finished with status 'done'\n",
      "Requirement already satisfied: ipython>=3.2.3 in c:\\deep-reinforcement-learning-for-automated-stock-trading-ensemble-strategy-icaif-2020-master\\venv\\lib\\site-packages (from pyfolio==0.9.2+75.g4b901f6) (7.32.0)\n",
      "Requirement already satisfied: matplotlib>=1.4.0 in c:\\deep-reinforcement-learning-for-automated-stock-trading-ensemble-strategy-icaif-2020-master\\venv\\lib\\site-packages (from pyfolio==0.9.2+75.g4b901f6) (3.2.1)\n",
      "Requirement already satisfied: numpy>=1.11.1 in c:\\deep-reinforcement-learning-for-automated-stock-trading-ensemble-strategy-icaif-2020-master\\venv\\lib\\site-packages (from pyfolio==0.9.2+75.g4b901f6) (1.18.5)\n",
      "Requirement already satisfied: pandas>=0.18.1 in c:\\deep-reinforcement-learning-for-automated-stock-trading-ensemble-strategy-icaif-2020-master\\venv\\lib\\site-packages (from pyfolio==0.9.2+75.g4b901f6) (1.0.3)\n",
      "Requirement already satisfied: pytz>=2014.10 in c:\\deep-reinforcement-learning-for-automated-stock-trading-ensemble-strategy-icaif-2020-master\\venv\\lib\\site-packages (from pyfolio==0.9.2+75.g4b901f6) (2022.1)\n",
      "Requirement already satisfied: scipy>=0.14.0 in c:\\deep-reinforcement-learning-for-automated-stock-trading-ensemble-strategy-icaif-2020-master\\venv\\lib\\site-packages (from pyfolio==0.9.2+75.g4b901f6) (1.7.3)\n",
      "Requirement already satisfied: scikit-learn>=0.16.1 in c:\\deep-reinforcement-learning-for-automated-stock-trading-ensemble-strategy-icaif-2020-master\\venv\\lib\\site-packages (from pyfolio==0.9.2+75.g4b901f6) (0.21.0)\n",
      "Collecting seaborn>=0.7.1\n",
      "  Using cached seaborn-0.11.2-py3-none-any.whl (292 kB)\n",
      "Collecting empyrical>=0.5.0\n",
      "  Using cached empyrical-0.5.5-py3-none-any.whl\n",
      "Collecting pandas-datareader>=0.2\n",
      "  Using cached pandas_datareader-0.10.0-py3-none-any.whl (109 kB)\n",
      "Requirement already satisfied: jedi>=0.16 in c:\\deep-reinforcement-learning-for-automated-stock-trading-ensemble-strategy-icaif-2020-master\\venv\\lib\\site-packages (from ipython>=3.2.3->pyfolio==0.9.2+75.g4b901f6) (0.18.1)\n",
      "Requirement already satisfied: prompt-toolkit!=3.0.0,!=3.0.1,<3.1.0,>=2.0.0 in c:\\deep-reinforcement-learning-for-automated-stock-trading-ensemble-strategy-icaif-2020-master\\venv\\lib\\site-packages (from ipython>=3.2.3->pyfolio==0.9.2+75.g4b901f6) (3.0.28)\n",
      "Requirement already satisfied: colorama in c:\\deep-reinforcement-learning-for-automated-stock-trading-ensemble-strategy-icaif-2020-master\\venv\\lib\\site-packages (from ipython>=3.2.3->pyfolio==0.9.2+75.g4b901f6) (0.4.4)\n",
      "Requirement already satisfied: setuptools>=18.5 in c:\\deep-reinforcement-learning-for-automated-stock-trading-ensemble-strategy-icaif-2020-master\\venv\\lib\\site-packages (from ipython>=3.2.3->pyfolio==0.9.2+75.g4b901f6) (41.6.0)\n",
      "Requirement already satisfied: traitlets>=4.2 in c:\\deep-reinforcement-learning-for-automated-stock-trading-ensemble-strategy-icaif-2020-master\\venv\\lib\\site-packages (from ipython>=3.2.3->pyfolio==0.9.2+75.g4b901f6) (5.1.1)\n",
      "Requirement already satisfied: decorator in c:\\deep-reinforcement-learning-for-automated-stock-trading-ensemble-strategy-icaif-2020-master\\venv\\lib\\site-packages (from ipython>=3.2.3->pyfolio==0.9.2+75.g4b901f6) (5.1.1)\n",
      "Requirement already satisfied: matplotlib-inline in c:\\deep-reinforcement-learning-for-automated-stock-trading-ensemble-strategy-icaif-2020-master\\venv\\lib\\site-packages (from ipython>=3.2.3->pyfolio==0.9.2+75.g4b901f6) (0.1.3)\n",
      "Requirement already satisfied: pygments in c:\\deep-reinforcement-learning-for-automated-stock-trading-ensemble-strategy-icaif-2020-master\\venv\\lib\\site-packages (from ipython>=3.2.3->pyfolio==0.9.2+75.g4b901f6) (2.11.2)\n",
      "Requirement already satisfied: backcall in c:\\deep-reinforcement-learning-for-automated-stock-trading-ensemble-strategy-icaif-2020-master\\venv\\lib\\site-packages (from ipython>=3.2.3->pyfolio==0.9.2+75.g4b901f6) (0.2.0)\n",
      "Requirement already satisfied: pickleshare in c:\\deep-reinforcement-learning-for-automated-stock-trading-ensemble-strategy-icaif-2020-master\\venv\\lib\\site-packages (from ipython>=3.2.3->pyfolio==0.9.2+75.g4b901f6) (0.7.5)\n",
      "Requirement already satisfied: pyparsing!=2.0.4,!=2.1.2,!=2.1.6,>=2.0.1 in c:\\deep-reinforcement-learning-for-automated-stock-trading-ensemble-strategy-icaif-2020-master\\venv\\lib\\site-packages (from matplotlib>=1.4.0->pyfolio==0.9.2+75.g4b901f6) (3.0.7)\n",
      "Requirement already satisfied: python-dateutil>=2.1 in c:\\deep-reinforcement-learning-for-automated-stock-trading-ensemble-strategy-icaif-2020-master\\venv\\lib\\site-packages (from matplotlib>=1.4.0->pyfolio==0.9.2+75.g4b901f6) (2.8.2)\n",
      "Requirement already satisfied: kiwisolver>=1.0.1 in c:\\deep-reinforcement-learning-for-automated-stock-trading-ensemble-strategy-icaif-2020-master\\venv\\lib\\site-packages (from matplotlib>=1.4.0->pyfolio==0.9.2+75.g4b901f6) (1.4.0)\n",
      "Requirement already satisfied: cycler>=0.10 in c:\\deep-reinforcement-learning-for-automated-stock-trading-ensemble-strategy-icaif-2020-master\\venv\\lib\\site-packages (from matplotlib>=1.4.0->pyfolio==0.9.2+75.g4b901f6) (0.11.0)\n",
      "Requirement already satisfied: joblib>=0.11 in c:\\deep-reinforcement-learning-for-automated-stock-trading-ensemble-strategy-icaif-2020-master\\venv\\lib\\site-packages (from scikit-learn>=0.16.1->pyfolio==0.9.2+75.g4b901f6) (0.15.1)\n",
      "Requirement already satisfied: parso<0.9.0,>=0.8.0 in c:\\deep-reinforcement-learning-for-automated-stock-trading-ensemble-strategy-icaif-2020-master\\venv\\lib\\site-packages (from jedi>=0.16->ipython>=3.2.3->pyfolio==0.9.2+75.g4b901f6) (0.8.3)\n",
      "Requirement already satisfied: typing-extensions in c:\\deep-reinforcement-learning-for-automated-stock-trading-ensemble-strategy-icaif-2020-master\\venv\\lib\\site-packages (from kiwisolver>=1.0.1->matplotlib>=1.4.0->pyfolio==0.9.2+75.g4b901f6) (4.1.1)\n",
      "Collecting requests>=2.19.0\n",
      "  Using cached requests-2.27.1-py2.py3-none-any.whl (63 kB)\n",
      "Collecting lxml\n",
      "  Using cached lxml-4.8.0-cp37-cp37m-win_amd64.whl (3.6 MB)\n",
      "Requirement already satisfied: wcwidth in c:\\deep-reinforcement-learning-for-automated-stock-trading-ensemble-strategy-icaif-2020-master\\venv\\lib\\site-packages (from prompt-toolkit!=3.0.0,!=3.0.1,<3.1.0,>=2.0.0->ipython>=3.2.3->pyfolio==0.9.2+75.g4b901f6) (0.2.5)\n",
      "Requirement already satisfied: six>=1.5 in c:\\deep-reinforcement-learning-for-automated-stock-trading-ensemble-strategy-icaif-2020-master\\venv\\lib\\site-packages (from python-dateutil>=2.1->matplotlib>=1.4.0->pyfolio==0.9.2+75.g4b901f6) (1.16.0)\n",
      "Collecting certifi>=2017.4.17\n",
      "  Using cached certifi-2021.10.8-py2.py3-none-any.whl (149 kB)\n",
      "Collecting charset-normalizer~=2.0.0\n",
      "  Using cached charset_normalizer-2.0.12-py3-none-any.whl (39 kB)\n",
      "Collecting idna<4,>=2.5\n",
      "  Using cached idna-3.3-py3-none-any.whl (61 kB)\n",
      "Collecting urllib3<1.27,>=1.21.1\n",
      "  Using cached urllib3-1.26.9-py2.py3-none-any.whl (138 kB)\n",
      "Building wheels for collected packages: pyfolio\n",
      "  Building wheel for pyfolio (setup.py): started\n",
      "  Building wheel for pyfolio (setup.py): finished with status 'done'\n",
      "  Created wheel for pyfolio: filename=pyfolio-0.9.2+75.g4b901f6-py3-none-any.whl size=76262 sha256=1d368396c2dfc8a3751575161a4480e5b545b1402fcce562aaafc3b89c873fd7\n",
      "  Stored in directory: C:\\Users\\RIVER1~1\\AppData\\Local\\Temp\\pip-ephem-wheel-cache-l0yrm5zx\\wheels\\2d\\aa\\24\\c99ed55ef37c69e33815248c1622cdb81b65ec753868004c28\n",
      "Successfully built pyfolio\n",
      "Installing collected packages: certifi, urllib3, lxml, idna, charset-normalizer, requests, seaborn, pandas-datareader, empyrical, pyfolio\n",
      "Successfully installed certifi-2021.10.8 charset-normalizer-2.0.12 empyrical-0.5.5 idna-3.3 lxml-4.8.0 pandas-datareader-0.10.0 pyfolio-0.9.2+75.g4b901f6 requests-2.27.1 seaborn-0.11.2 urllib3-1.26.9\n",
      "Note: you may need to restart the kernel to use updated packages.\n"
     ]
    },
    {
     "name": "stderr",
     "output_type": "stream",
     "text": [
      "  Running command git clone --filter=blob:none --quiet https://github.com/quantopian/pyfolio 'C:\\Users\\RIVER1~1\\AppData\\Local\\Temp\\pip-req-build-3mz2_619'\n"
     ]
    }
   ],
   "source": [
    "# pip install git+https://github.com/quantopian/pyfolio"
   ],
   "metadata": {
    "collapsed": false,
    "pycharm": {
     "name": "#%%\n"
    }
   }
  },
  {
   "cell_type": "code",
   "execution_count": 7,
   "outputs": [],
   "source": [
    "import tushare as ts\n",
    "import os\n",
    "mytoken = 'a6d3867404a7fdc8ef9ac200bacb1d8c8a6c5177f7b1742d45069d44'\n",
    "ts.set_token(mytoken)\n",
    "save_path = 'stock'\n",
    "pro = ts.pro_api()\n",
    "df = pro.index_basic(market='SSE')\n",
    "index = ['000016.SH']\n",
    "for i in index:\n",
    "        path = os.path.join(save_path, 'OldData', i + '_NormalData.csv')\n",
    "        df = pro.index_daily(ts_code=i,\n",
    "                             start_date=20120101,\n",
    "                             end_date=20220101,\n",
    "                             fields='ts_code, trade_date, open, high, low, close, pre_close, change, pct_chg, '\n",
    "                                    'vol, amount')\n",
    "        df = df.sort_values('trade_date', ascending=True)\n",
    "df.to_csv(\"total50.csv\")"
   ],
   "metadata": {
    "collapsed": false,
    "pycharm": {
     "name": "#%%\n"
    }
   }
  },
  {
   "cell_type": "code",
   "execution_count": 66,
   "outputs": [
    {
     "name": "stdout",
     "output_type": "stream",
     "text": [
      "601888.SH:{20150528, 20150529, 20120329, 20121107, 20121108, 20121109, 20121112, 20121113, 20150316, 20150317, 20150318, 20150319, 20150320, 20150323, 20150324, 20150325, 20150326, 20150327, 20150330, 20150331, 20150601, 20150602, 20150603, 20150401, 20150402, 20150403, 20150407, 20150408, 20150409, 20150410, 20150413, 20150414, 20150415, 20150416, 20150417, 20150420, 20150421, 20150422, 20150423, 20150424, 20150427, 20150428, 20150429, 20150430, 20120517, 20150504, 20150505, 20150506, 20150507, 20150508, 20150511, 20150512, 20150513, 20150514, 20150515, 20150518, 20150519, 20150520, 20150521, 20150522, 20150525, 20150526, 20150527}\n",
      "601628.SH:{20130311, 20120522}\n",
      "600276.SH:{20120411, 20160412}\n",
      "600519.SH:{20120529, 20120903, 20121210}\n",
      "600309.SH:{20180427, 20180102, 20180103, 20180104, 20180105, 20180108, 20180109, 20180110, 20180111, 20180112, 20180115, 20180116, 20180117, 20180118, 20180119, 20180122, 20180123, 20180124, 20180125, 20180126, 20180129, 20180130, 20180131, 20180201, 20180202, 20180205, 20180206, 20180207, 20180208, 20180209, 20180212, 20180213, 20180214, 20180222, 20180223, 20180226, 20180227, 20180228, 20180301, 20180302, 20180305, 20180306, 20180307, 20180308, 20180309, 20180312, 20180313, 20180314, 20180315, 20180316, 20180319, 20180320, 20180321, 20180322, 20180323, 20180326, 20180327, 20180328, 20180329, 20180330, 20180402, 20180403, 20180404, 20180409, 20180410, 20180411, 20180412, 20180413, 20180416, 20180417, 20180418, 20180419, 20180420, 20171205, 20171206, 20171207, 20171208, 20180423, 20180424, 20171211, 20171212, 20171213, 20171214, 20171215, 20180425, 20180426, 20171218, 20171219, 20171220, 20171221, 20171222, 20171225, 20171226, 20171227, 20171228, 20171229, 20180502, 20180503, 20180504, 20180507, 20180508, 20180509, 20180510, 20180511, 20180514, 20180515, 20180516, 20180517, 20180518, 20180521, 20180522, 20180523, 20180524, 20180525, 20180528, 20180529, 20180530, 20180531, 20120131, 20180601, 20151105, 20151106, 20151109, 20151110, 20151111, 20151112, 20151113, 20180810, 20151116, 20180813, 20180814, 20180815, 20180816, 20120406, 20180927}\n",
      "600585.SH:{20120531, 20141218, 20141219, 20141222, 20141223, 20141224, 20141225, 20141226, 20141229}\n",
      "600036.SH:{20150403, 20150407, 20150408, 20150409, 20150410, 20130828, 20130829, 20130830, 20120530, 20130902, 20130903, 20130904}\n",
      "600104.SH:{20151102, 20151103, 20151104, 20151105, 20120524, 20151009, 20151012, 20151013, 20151014, 20151015, 20151016, 20151019, 20151020, 20151021, 20151022, 20151023, 20151026, 20151027, 20151028, 20151029, 20151030}\n",
      "600887.SH:{20120321, 20130705, 20160919, 20160920, 20160921, 20160922, 20160923, 20160926, 20160927, 20160928, 20160929, 20160930, 20130613, 20130614, 20170424, 20170425, 20170426, 20170427, 20130617, 20161010, 20161011, 20161012, 20161013, 20161014, 20161017, 20161018, 20161019, 20161020, 20161021}\n",
      "600028.SH:{20120511}\n"
     ]
    }
   ],
   "source": [
    "# import numpy as np\n",
    "# df = pd.read_csv(\"total50.csv\")\n",
    "# for i in index:\n",
    "#     df_ = pd.read_csv(\"{}.csv\".format(i))\n",
    "#     date1 = np.array(df.trade_date)\n",
    "#     date2 = np.array(df_.trade_date.unique())\n",
    "#     diff1 = set(date1).difference(date2)\n",
    "#     print(f\"{i}:{diff1}\")"
   ],
   "metadata": {
    "collapsed": false,
    "pycharm": {
     "name": "#%%\n"
    }
   }
  },
  {
   "cell_type": "code",
   "execution_count": null,
   "outputs": [],
   "source": [
    "# df = pd.read_csv(\"total50.csv\")\n",
    "# for i in index:\n",
    "#     df_ = pd.read_csv(\"{}.csv\".format(i))\n",
    "#     date1 = np.array(df.trade_date)\n",
    "#     date2 = np.array(df_.trade_date.unique())\n",
    "#     diff1 = set(date1).difference(date2)\n",
    "#     print(f\"{i}:{diff1}\")"
   ],
   "metadata": {
    "collapsed": false,
    "pycharm": {
     "name": "#%%\n"
    }
   }
  },
  {
   "cell_type": "code",
   "execution_count": 120,
   "outputs": [],
   "source": [
    "mytoken = 'a6d3867404a7fdc8ef9ac200bacb1d8c8a6c5177f7b1742d45069d44'\n",
    "ts.set_token(mytoken)\n",
    "save_path = 'stock'\n",
    "pro = ts.pro_api()\n",
    "index = ['601288.SH','601628.SH','600276.SH','600519.SH','600837.SH','600585.SH','600036.SH','600104.SH','600028.SH','600031.SH']\n",
    "df_ = pd.DataFrame()\n",
    "for i in index:\n",
    "    df = ts.pro_bar(ts_code=i, adj='qfq', start_date=\"20120101\",\n",
    "                             end_date=\"20220101\")\n",
    "    df = df.sort_values('trade_date', ascending=True)\n",
    "    df.to_csv(\"{}.csv\".format(i))"
   ],
   "metadata": {
    "collapsed": false,
    "pycharm": {
     "name": "#%%\n"
    }
   }
  },
  {
   "cell_type": "code",
   "execution_count": 197,
   "outputs": [
    {
     "name": "stdout",
     "output_type": "stream",
     "text": [
      "601288.SH\n",
      "Unnamed: 0           2427\n",
      "ts_code         601288.SH\n",
      "trade_date       20120105\n",
      "open               1.5157\n",
      "high               1.5507\n",
      "low                1.5157\n",
      "close              1.5448\n",
      "pre_close          1.5157\n",
      "change             0.0291\n",
      "pct_chg            1.9199\n",
      "vol           1.43181e+06\n",
      "amount             378868\n",
      "Name: 1, dtype: object\n",
      "601628.SH\n",
      "Unnamed: 0         2427\n",
      "ts_code       601628.SH\n",
      "trade_date     20120105\n",
      "open            15.0235\n",
      "high            15.1357\n",
      "low             14.2032\n",
      "close           14.3155\n",
      "pre_close       15.0753\n",
      "change          -0.7598\n",
      "pct_chg           -5.04\n",
      "vol              153772\n",
      "amount           260910\n",
      "Name: 1, dtype: object\n",
      "600276.SH\n",
      "Unnamed: 0         2427\n",
      "ts_code       600276.SH\n",
      "trade_date     20120105\n",
      "open             4.8948\n",
      "high             4.9751\n",
      "low              4.6434\n",
      "close            4.7132\n",
      "pre_close        4.9663\n",
      "change          -0.2531\n",
      "pct_chg         -5.0963\n",
      "vol               38923\n",
      "amount           107191\n",
      "Name: 1, dtype: object\n",
      "600519.SH\n",
      "Unnamed: 0         2426\n",
      "ts_code       600519.SH\n",
      "trade_date     20120105\n",
      "open             127.18\n",
      "high             128.01\n",
      "low             126.046\n",
      "close           126.593\n",
      "pre_close       128.058\n",
      "change          -1.4653\n",
      "pct_chg         -1.1442\n",
      "vol             30122.6\n",
      "amount           553347\n",
      "Name: 1, dtype: object\n",
      "600837.SH\n",
      "Unnamed: 0         2426\n",
      "ts_code       600837.SH\n",
      "trade_date     20120105\n",
      "open             5.9612\n",
      "high             6.0788\n",
      "low              5.9192\n",
      "close            5.9444\n",
      "pre_close         5.978\n",
      "change          -0.0336\n",
      "pct_chg         -0.5621\n",
      "vol              388377\n",
      "amount           277546\n",
      "Name: 1, dtype: object\n",
      "600585.SH\n",
      "Unnamed: 0         2420\n",
      "ts_code       600585.SH\n",
      "trade_date     20120105\n",
      "open             11.308\n",
      "high            11.3599\n",
      "low              11.004\n",
      "close           11.0633\n",
      "pre_close       11.3302\n",
      "change          -0.2669\n",
      "pct_chg         -2.3557\n",
      "vol              203876\n",
      "amount           306924\n",
      "Name: 1, dtype: object\n",
      "600036.SH\n",
      "Unnamed: 0           2417\n",
      "ts_code         600036.SH\n",
      "trade_date       20120105\n",
      "open               7.9127\n",
      "high               8.1765\n",
      "low                7.8924\n",
      "close              8.0547\n",
      "pre_close          7.8924\n",
      "change             0.1623\n",
      "pct_chg            2.0564\n",
      "vol                840847\n",
      "amount        1.00681e+06\n",
      "Name: 1, dtype: object\n",
      "600104.SH\n",
      "Unnamed: 0         2408\n",
      "ts_code       600104.SH\n",
      "trade_date     20120105\n",
      "open             8.5514\n",
      "high             8.8789\n",
      "low              8.5272\n",
      "close            8.7273\n",
      "pre_close        8.5878\n",
      "change           0.1395\n",
      "pct_chg          1.6244\n",
      "vol              455529\n",
      "amount           659991\n",
      "Name: 1, dtype: object\n",
      "600028.SH\n",
      "Unnamed: 0         2428\n",
      "ts_code       600028.SH\n",
      "trade_date     20120105\n",
      "open             3.3127\n",
      "high             3.3987\n",
      "low              3.3037\n",
      "close             3.358\n",
      "pre_close        3.3308\n",
      "change           0.0272\n",
      "pct_chg          0.8166\n",
      "vol              478885\n",
      "amount           356529\n",
      "Name: 1, dtype: object\n",
      "600031.SH\n",
      "Unnamed: 0         2424\n",
      "ts_code       600031.SH\n",
      "trade_date     20120105\n",
      "open            10.1654\n",
      "high            10.3685\n",
      "low              10.123\n",
      "close           10.2077\n",
      "pre_close       10.2331\n",
      "change          -0.0254\n",
      "pct_chg         -0.2482\n",
      "vol              166083\n",
      "amount           201146\n",
      "Name: 1, dtype: object\n"
     ]
    }
   ],
   "source": [
    "# m = pd.DataFrame()\n",
    "# for j in index:\n",
    "#     print(j)\n",
    "#     df_ = pd.read_csv(\"{}.csv\".format(j))\n",
    "#     date1 = np.array(df.trade_date)\n",
    "#     date2 = np.array(df_.trade_date.unique())\n",
    "#     diff1 = set(date1).difference(date2)\n",
    "#     diff1 = list(diff1)\n",
    "#     for i in diff1:\n",
    "#         df_.loc[-1]=[0,j, i, 'x', 10000, 10000, 0, 0 ,0 ,0,0,0];\n",
    "#         df_ = df_.sort_values([\"trade_date\",'ts_code'],ignore_index=True)\n",
    "#         # index = int(df.index[(df[\"trade_date\"] == diff1[1]) & (df[\"ts_code\"] == code)].values)\n",
    "#         # col = df.columns.values.tolist()\n",
    "#         # col.remove('ts_code')\n",
    "#         # df.iloc[index][col] = df.iloc[index-7:index][col].mean()\n",
    "#     print(df_.iloc[1])\n",
    "#     m = m.append(df_)"
   ],
   "metadata": {
    "collapsed": false,
    "pycharm": {
     "name": "#%%\n"
    }
   }
  },
  {
   "cell_type": "code",
   "execution_count": 163,
   "outputs": [],
   "source": [
    "# df = pd.read_csv(\"total50.csv\")\n",
    "# index = ['601288.SH','601628.SH','600276.SH','600519.SH','600837.SH','600585.SH','600036.SH','600104.SH','600028.SH','600031.SH']"
   ],
   "metadata": {
    "collapsed": false,
    "pycharm": {
     "name": "#%%\n"
    }
   }
  },
  {
   "cell_type": "code",
   "execution_count": 2,
   "metadata": {},
   "outputs": [
    {
     "name": "stderr",
     "output_type": "stream",
     "text": [
      "C:\\Deep-Reinforcement-Learning-for-Automated-Stock-Trading-Ensemble-Strategy-ICAIF-2020-master\\venv\\lib\\site-packages\\pyfolio\\pos.py:27: UserWarning: Module \"zipline.assets\" not found; multipliers will not be applied to position notionals.\n",
      "  'Module \"zipline.assets\" not found; multipliers will not be applied'\n"
     ]
    }
   ],
   "source": [
    "# import again if first time not work\n",
    "import pyfolio"
   ]
  },
  {
   "cell_type": "code",
   "execution_count": 20,
   "outputs": [],
   "source": [
    "import pandas as pd\n",
    "from stockstats import StockDataFrame as Sdf\n",
    "import numpy as np"
   ],
   "metadata": {
    "collapsed": false,
    "pycharm": {
     "name": "#%%\n"
    }
   }
  },
  {
   "cell_type": "code",
   "execution_count": 21,
   "metadata": {},
   "outputs": [],
   "source": [
    "import matplotlib\n",
    "matplotlib.use('Agg')\n",
    "%matplotlib inline"
   ]
  },
  {
   "cell_type": "code",
   "execution_count": 22,
   "outputs": [],
   "source": [
    "def load_dataset(*, file_name: str) -> pd.DataFrame:\n",
    "    \"\"\"\n",
    "    load csv dataset from path\n",
    "    :return: (df) pandas dataframe\n",
    "    \"\"\"\n",
    "    _data = pd.read_csv(file_name)\n",
    "    return _data\n",
    "\n",
    "def data_split(df,start,end):\n",
    "    \"\"\"\n",
    "    split the dataset into training or testing using date\n",
    "    :param data: (df) pandas dataframe, start, end\n",
    "    :return: (df) pandas dataframe\n",
    "    \"\"\"\n",
    "    data = df[(df.datadate >= start) & (df.datadate < end)]\n",
    "    data=data.sort_values(['datadate','tic'],ignore_index=True)\n",
    "    #data  = data[final_columns]\n",
    "    data.index = data.datadate.factorize()[0]\n",
    "    return data\n",
    "\n",
    "def calcualte_price(df):\n",
    "    \"\"\"\n",
    "    calcualte adjusted close price, open-high-low price and volume\n",
    "    :param data: (df) pandas dataframe\n",
    "    :return: (df) pandas dataframe\n",
    "    \"\"\"\n",
    "    # tic：股票代码\n",
    "    # PRCCD（每日价格）\n",
    "    # AJEXDI（调整因子）\n",
    "    # prcod : 开盘价（每日）\n",
    "    # prchd：高价（每日）\n",
    "    # prcld：低价（每日）\n",
    "    # cshtrd：普通股交易\n",
    "    data = df.copy()\n",
    "    data = data[['datadate', 'tic', 'adjcp', 'open', 'high', 'low', 'volume']]\n",
    "    data = data.sort_values(['tic', 'datadate'], ignore_index=True)\n",
    "    return data\n",
    "\n",
    "def add_technical_indicator(df):\n",
    "    \"\"\"\n",
    "    calcualte technical indicators\n",
    "    use stockstats package to add technical inidactors\n",
    "    :param data: (df) pandas dataframe\n",
    "    :return: (df) pandas dataframe\n",
    "    \"\"\"\n",
    "    stock = Sdf.retype(df.copy())\n",
    "\n",
    "    stock['close'] = stock['adjcp']\n",
    "    unique_ticker = stock.tic.unique()\n",
    "    # 移动平均收敛散度( MACD )\n",
    "    # 相对强弱指数( RSI ) 是衡量近期价格变化幅度以分析超买或超卖情况的动量指标。\n",
    "    # 商品通道指数（CCI）是衡量当前价格与历史平均价格之间差异的技术指标。\n",
    "    # 平均方向指数 ( ADX ) 是一种趋势指标，可以引导交易者降低风险并增加获利潜力。\n",
    "    macd = pd.DataFrame()\n",
    "    rsi = pd.DataFrame()\n",
    "    cci = pd.DataFrame()\n",
    "    dx = pd.DataFrame()\n",
    "    c3 = pd.DataFrame()\n",
    "    c7 = pd.DataFrame()\n",
    "\n",
    "    for i in range(len(unique_ticker)):\n",
    "        ## macd\n",
    "        temp_macd = stock[stock.tic == unique_ticker[i]]['macd']\n",
    "        temp_macd = pd.DataFrame(temp_macd)\n",
    "        macd = macd.append(temp_macd, ignore_index=True)\n",
    "        ## rsi\n",
    "        temp_rsi = stock[stock.tic == unique_ticker[i]]['rsi_30']\n",
    "        temp_rsi = pd.DataFrame(temp_rsi)\n",
    "        rsi = rsi.append(temp_rsi, ignore_index=True)\n",
    "        ## cci\n",
    "        temp_cci = stock[stock.tic == unique_ticker[i]]['cci_30']\n",
    "        temp_cci = pd.DataFrame(temp_cci)\n",
    "        cci = cci.append(temp_cci, ignore_index=True)\n",
    "        ## adx\n",
    "        temp_dx = stock[stock.tic == unique_ticker[i]]['dx_30']\n",
    "        temp_dx = pd.DataFrame(temp_dx)\n",
    "        dx = dx.append(temp_dx, ignore_index=True)\n",
    "\n",
    "        temp_c7 = stock[stock.tic == unique_ticker[i]]['close_-7_d']\n",
    "        temp_c7 = pd.DataFrame(temp_c7)\n",
    "        c7 = c7.append(temp_c7, ignore_index=True)\n",
    "\n",
    "        temp_c3 = stock[stock.tic == unique_ticker[i]]['close_-3_d']\n",
    "        temp_c3 = pd.DataFrame(temp_c3)\n",
    "        c3 = c3.append(temp_c3, ignore_index=True)\n",
    "\n",
    "    df['macd'] = macd\n",
    "    df['rsi'] = rsi\n",
    "    df['cci'] = cci\n",
    "    df['adx'] = dx\n",
    "    df['close7'] = c7\n",
    "    df['close3'] = c3\n",
    "\n",
    "    return df\n",
    "\n",
    "def preprocess_data():\n",
    "    \"\"\"data preprocessing pipeline\"\"\"\n",
    "\n",
    "    df = load_dataset(file_name=\"data-1.csv\")\n",
    "    # get data after 2009\n",
    "    df = df[df.datadate>=20120100]\n",
    "    # calcualte adjusted price\n",
    "    df_preprocess = calcualte_price(df)\n",
    "    # add technical indicators using stockstats\n",
    "    df_final=add_technical_indicator(df_preprocess)\n",
    "    # fill the missing values at the beginning\n",
    "    df_final.fillna(method='bfill',inplace=True)\n",
    "    return df_final"
   ],
   "metadata": {
    "collapsed": false,
    "pycharm": {
     "name": "#%%\n"
    }
   }
  },
  {
   "cell_type": "code",
   "execution_count": 23,
   "outputs": [
    {
     "data": {
      "text/plain": "       datadate        tic    adjcp     open     high      low     volume  \\\n0      20120104  600028.SH   3.3308   3.2946   3.3670   3.2901  528181.38   \n1      20120105  600028.SH   3.3580   3.3127   3.3987   3.3037  478884.57   \n2      20120106  600028.SH   3.3851   3.3942   3.4168   3.3263  394654.47   \n3      20120109  600028.SH   3.5073   3.3942   3.5299   3.3534  743960.15   \n4      20120110  600028.SH   3.5254   3.4621   3.5435   3.4394  735424.06   \n...         ...        ...      ...      ...      ...      ...        ...   \n24305  20211227  601628.SH  30.2700  30.2000  30.4100  30.0800   58534.34   \n24306  20211228  601628.SH  30.3700  30.2800  30.5900  30.2700   82988.98   \n24307  20211229  601628.SH  30.3000  30.6600  30.6600  30.1800   55402.19   \n24308  20211230  601628.SH  30.1800  30.2100  30.4500  30.1600   54313.60   \n24309  20211231  601628.SH  30.0900  30.3300  30.4500  30.0800   57631.98   \n\n           macd         rsi         cci         adx  close7  close3  \n0      0.000000  100.000000   66.666667  100.000000    0.00  0.0000  \n1      0.000610  100.000000   66.666667  100.000000    0.00  0.0000  \n2      0.001618  100.000000   97.791353  100.000000    0.00  0.0000  \n3      0.006449  100.000000  133.333333  100.000000    0.00  0.1765  \n4      0.009658  100.000000  104.258224  100.000000    0.00  0.1674  \n...         ...         ...         ...         ...     ...     ...  \n24305  0.118982   51.535102   93.857678   27.269124    0.17  0.3300  \n24306  0.136228   52.129466  111.111111   31.496395    0.44  0.3900  \n24307  0.142604   51.670596   98.843153   27.534503    0.29  0.1600  \n24308  0.136401   50.876396   75.200291   26.628206   -0.07 -0.0900  \n24309  0.122807   50.276828   62.069980   22.894009    0.15 -0.2800  \n\n[24310 rows x 13 columns]",
      "text/html": "<div>\n<style scoped>\n    .dataframe tbody tr th:only-of-type {\n        vertical-align: middle;\n    }\n\n    .dataframe tbody tr th {\n        vertical-align: top;\n    }\n\n    .dataframe thead th {\n        text-align: right;\n    }\n</style>\n<table border=\"1\" class=\"dataframe\">\n  <thead>\n    <tr style=\"text-align: right;\">\n      <th></th>\n      <th>datadate</th>\n      <th>tic</th>\n      <th>adjcp</th>\n      <th>open</th>\n      <th>high</th>\n      <th>low</th>\n      <th>volume</th>\n      <th>macd</th>\n      <th>rsi</th>\n      <th>cci</th>\n      <th>adx</th>\n      <th>close7</th>\n      <th>close3</th>\n    </tr>\n  </thead>\n  <tbody>\n    <tr>\n      <th>0</th>\n      <td>20120104</td>\n      <td>600028.SH</td>\n      <td>3.3308</td>\n      <td>3.2946</td>\n      <td>3.3670</td>\n      <td>3.2901</td>\n      <td>528181.38</td>\n      <td>0.000000</td>\n      <td>100.000000</td>\n      <td>66.666667</td>\n      <td>100.000000</td>\n      <td>0.00</td>\n      <td>0.0000</td>\n    </tr>\n    <tr>\n      <th>1</th>\n      <td>20120105</td>\n      <td>600028.SH</td>\n      <td>3.3580</td>\n      <td>3.3127</td>\n      <td>3.3987</td>\n      <td>3.3037</td>\n      <td>478884.57</td>\n      <td>0.000610</td>\n      <td>100.000000</td>\n      <td>66.666667</td>\n      <td>100.000000</td>\n      <td>0.00</td>\n      <td>0.0000</td>\n    </tr>\n    <tr>\n      <th>2</th>\n      <td>20120106</td>\n      <td>600028.SH</td>\n      <td>3.3851</td>\n      <td>3.3942</td>\n      <td>3.4168</td>\n      <td>3.3263</td>\n      <td>394654.47</td>\n      <td>0.001618</td>\n      <td>100.000000</td>\n      <td>97.791353</td>\n      <td>100.000000</td>\n      <td>0.00</td>\n      <td>0.0000</td>\n    </tr>\n    <tr>\n      <th>3</th>\n      <td>20120109</td>\n      <td>600028.SH</td>\n      <td>3.5073</td>\n      <td>3.3942</td>\n      <td>3.5299</td>\n      <td>3.3534</td>\n      <td>743960.15</td>\n      <td>0.006449</td>\n      <td>100.000000</td>\n      <td>133.333333</td>\n      <td>100.000000</td>\n      <td>0.00</td>\n      <td>0.1765</td>\n    </tr>\n    <tr>\n      <th>4</th>\n      <td>20120110</td>\n      <td>600028.SH</td>\n      <td>3.5254</td>\n      <td>3.4621</td>\n      <td>3.5435</td>\n      <td>3.4394</td>\n      <td>735424.06</td>\n      <td>0.009658</td>\n      <td>100.000000</td>\n      <td>104.258224</td>\n      <td>100.000000</td>\n      <td>0.00</td>\n      <td>0.1674</td>\n    </tr>\n    <tr>\n      <th>...</th>\n      <td>...</td>\n      <td>...</td>\n      <td>...</td>\n      <td>...</td>\n      <td>...</td>\n      <td>...</td>\n      <td>...</td>\n      <td>...</td>\n      <td>...</td>\n      <td>...</td>\n      <td>...</td>\n      <td>...</td>\n      <td>...</td>\n    </tr>\n    <tr>\n      <th>24305</th>\n      <td>20211227</td>\n      <td>601628.SH</td>\n      <td>30.2700</td>\n      <td>30.2000</td>\n      <td>30.4100</td>\n      <td>30.0800</td>\n      <td>58534.34</td>\n      <td>0.118982</td>\n      <td>51.535102</td>\n      <td>93.857678</td>\n      <td>27.269124</td>\n      <td>0.17</td>\n      <td>0.3300</td>\n    </tr>\n    <tr>\n      <th>24306</th>\n      <td>20211228</td>\n      <td>601628.SH</td>\n      <td>30.3700</td>\n      <td>30.2800</td>\n      <td>30.5900</td>\n      <td>30.2700</td>\n      <td>82988.98</td>\n      <td>0.136228</td>\n      <td>52.129466</td>\n      <td>111.111111</td>\n      <td>31.496395</td>\n      <td>0.44</td>\n      <td>0.3900</td>\n    </tr>\n    <tr>\n      <th>24307</th>\n      <td>20211229</td>\n      <td>601628.SH</td>\n      <td>30.3000</td>\n      <td>30.6600</td>\n      <td>30.6600</td>\n      <td>30.1800</td>\n      <td>55402.19</td>\n      <td>0.142604</td>\n      <td>51.670596</td>\n      <td>98.843153</td>\n      <td>27.534503</td>\n      <td>0.29</td>\n      <td>0.1600</td>\n    </tr>\n    <tr>\n      <th>24308</th>\n      <td>20211230</td>\n      <td>601628.SH</td>\n      <td>30.1800</td>\n      <td>30.2100</td>\n      <td>30.4500</td>\n      <td>30.1600</td>\n      <td>54313.60</td>\n      <td>0.136401</td>\n      <td>50.876396</td>\n      <td>75.200291</td>\n      <td>26.628206</td>\n      <td>-0.07</td>\n      <td>-0.0900</td>\n    </tr>\n    <tr>\n      <th>24309</th>\n      <td>20211231</td>\n      <td>601628.SH</td>\n      <td>30.0900</td>\n      <td>30.3300</td>\n      <td>30.4500</td>\n      <td>30.0800</td>\n      <td>57631.98</td>\n      <td>0.122807</td>\n      <td>50.276828</td>\n      <td>62.069980</td>\n      <td>22.894009</td>\n      <td>0.15</td>\n      <td>-0.2800</td>\n    </tr>\n  </tbody>\n</table>\n<p>24310 rows × 13 columns</p>\n</div>"
     },
     "execution_count": 23,
     "metadata": {},
     "output_type": "execute_result"
    }
   ],
   "source": [
    "df_final = preprocess_data()\n",
    "df_final"
   ],
   "metadata": {
    "collapsed": false,
    "pycharm": {
     "name": "#%%\n"
    }
   }
  },
  {
   "cell_type": "code",
   "execution_count": 24,
   "outputs": [],
   "source": [
    "# df = df_final.sort_values(['trade_date','ts_code']).reset_index(drop=True)\n",
    "# df.to_csv(\"data-2.csv\")"
   ],
   "metadata": {
    "collapsed": false,
    "pycharm": {
     "name": "#%%\n"
    }
   }
  },
  {
   "cell_type": "code",
   "execution_count": 25,
   "outputs": [],
   "source": [
    "def add_turbulence(df):\n",
    "    \"\"\"\n",
    "    add turbulence index from a precalcualted dataframe\n",
    "    :param data: (df) pandas dataframe\n",
    "    :return: (df) pandas dataframe\n",
    "    \"\"\"\n",
    "    turbulence_index = calcualte_turbulence(df)\n",
    "    df = df.merge(turbulence_index, on='datadate')\n",
    "    df = df.sort_values(['datadate','tic']).reset_index(drop=True)\n",
    "    return df\n",
    "\n",
    "def calcualte_turbulence(df):\n",
    "    \"\"\"calculate turbulence index based on dow 30\"\"\"\n",
    "    # can add other market assets\n",
    "\n",
    "    df_price_pivot=df.pivot(index='datadate', columns='tic', values='adjcp')\n",
    "    unique_date = df.datadate.unique()\n",
    "    # start after a year\n",
    "    start = 252\n",
    "    turbulence_index = [0]*start\n",
    "    #turbulence_index = [0]\n",
    "    count=0\n",
    "    for i in range(start,len(unique_date)):\n",
    "        current_price = df_price_pivot[df_price_pivot.index == unique_date[i]]\n",
    "        hist_price = df_price_pivot[[n in unique_date[0:i] for n in df_price_pivot.index ]]\n",
    "        cov_temp = hist_price.cov()\n",
    "        current_temp=(current_price - np.mean(hist_price,axis=0))\n",
    "        temp = current_temp.values.dot(np.linalg.inv(cov_temp)).dot(current_temp.values.T)\n",
    "        if temp>0:\n",
    "            count+=1\n",
    "            if count>2:\n",
    "                turbulence_temp = temp[0][0]\n",
    "            else:\n",
    "                #avoid large outlier because of the calculation just begins\n",
    "                turbulence_temp=0\n",
    "        else:\n",
    "            turbulence_temp=0\n",
    "        turbulence_index.append(turbulence_temp)\n",
    "\n",
    "\n",
    "    turbulence_index = pd.DataFrame({'datadate':df_price_pivot.index,\n",
    "                                     'turbulence':turbulence_index})\n",
    "    return turbulence_index"
   ],
   "metadata": {
    "collapsed": false,
    "pycharm": {
     "name": "#%%\n"
    }
   }
  },
  {
   "cell_type": "code",
   "execution_count": 26,
   "outputs": [],
   "source": [
    "final = add_turbulence(df_final)\n",
    "final.to_csv(\"data-2.csv\")"
   ],
   "metadata": {
    "collapsed": false,
    "pycharm": {
     "name": "#%%\n"
    }
   }
  },
  {
   "cell_type": "code",
   "execution_count": 34,
   "outputs": [],
   "source": [
    "turbulence = calcualte_turbulence(df_final)"
   ],
   "metadata": {
    "collapsed": false,
    "pycharm": {
     "name": "#%%\n"
    }
   }
  },
  {
   "cell_type": "code",
   "execution_count": 35,
   "outputs": [],
   "source": [
    "turbulence.to_csv(\"turbulence.csv\")"
   ],
   "metadata": {
    "collapsed": false,
    "pycharm": {
     "name": "#%%\n"
    }
   }
  },
  {
   "cell_type": "code",
   "execution_count": null,
   "outputs": [],
   "source": [],
   "metadata": {
    "collapsed": false,
    "pycharm": {
     "name": "#%%\n"
    }
   }
  }
 ],
 "metadata": {
  "kernelspec": {
   "display_name": "Python 3",
   "language": "python",
   "name": "python3"
  },
  "language_info": {
   "codemirror_mode": {
    "name": "ipython",
    "version": 3
   },
   "file_extension": ".py",
   "mimetype": "text/x-python",
   "name": "python",
   "nbconvert_exporter": "python",
   "pygments_lexer": "ipython3",
   "version": "3.6.10"
  }
 },
 "nbformat": 4,
 "nbformat_minor": 4
}